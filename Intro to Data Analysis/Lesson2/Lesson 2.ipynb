{
 "cells": [
  {
   "cell_type": "markdown",
   "metadata": {},
   "source": [
    "This lesson uses Gapminder data:\n",
    "    - Employment Levels\n",
    "    - Life Expectancy\n",
    "    - GDP\n",
    "    - School Completion Rates\n",
    "Some questions we can answer through these datasets:\n",
    "    - How has employment in a particular country varied over time\n",
    "    - What are the highest and lowest employment levels\n",
    "        - Which countries have them\n",
    "        - Where in a particular country on the spectrum\n",
    "    - Same question for different variables\n",
    "    - How do these variables relate each other\n",
    "    - Are there consistent trends across countries\n",
    "#One-Dimensional Data in Numpy and Pandas"
   ]
  },
  {
   "cell_type": "code",
   "execution_count": 1,
   "metadata": {
    "collapsed": true
   },
   "outputs": [],
   "source": [
    "import unicodecsv\n",
    "\n",
    "def read_csv(filename):\n",
    "    with open (filename, \"rb\") as f:\n",
    "        reader = unicodecsv.DictReader(f)\n",
    "        return list(reader)\n",
    "    \n",
    "daily_enagagement = read_csv(\"daily_engagement.csv\")"
   ]
  },
  {
   "cell_type": "code",
   "execution_count": 2,
   "metadata": {
    "collapsed": false
   },
   "outputs": [
    {
     "data": {
      "text/plain": [
       "1237"
      ]
     },
     "execution_count": 2,
     "metadata": {},
     "output_type": "execute_result"
    }
   ],
   "source": [
    "def get_unique_students(data):\n",
    "    unique_students =set()\n",
    "    for data_point in data:\n",
    "        unique_students.add(data_point['acct'])\n",
    "    return unique_students\n",
    "\n",
    "unique_enagagement_students = get_unique_students(daily_enagagement)\n",
    "len(unique_enagagement_students)"
   ]
  },
  {
   "cell_type": "markdown",
   "metadata": {},
   "source": [
    "This entire thing can be done with pandas with much less time consumed"
   ]
  },
  {
   "cell_type": "code",
   "execution_count": 3,
   "metadata": {
    "collapsed": true
   },
   "outputs": [],
   "source": [
    "import pandas as pd"
   ]
  },
  {
   "cell_type": "code",
   "execution_count": 4,
   "metadata": {
    "collapsed": true
   },
   "outputs": [],
   "source": [
    "daily_engagement = pd.read_csv(\"daily_engagement.csv\")"
   ]
  },
  {
   "cell_type": "code",
   "execution_count": 5,
   "metadata": {
    "collapsed": false
   },
   "outputs": [
    {
     "data": {
      "text/plain": [
       "1237"
      ]
     },
     "execution_count": 5,
     "metadata": {},
     "output_type": "execute_result"
    }
   ],
   "source": [
    "len(daily_engagement['acct'].unique())"
   ]
  },
  {
   "cell_type": "markdown",
   "metadata": {},
   "source": [
    "#Numpy Arrays\n",
    "One-Dimension Structure:\n",
    "    - In Pandas: Series\n",
    "    - In NumPy (Numerical Python): Array\n",
    "**Numpy Arrays and Python Lists**\n",
    "\n",
    "*Similarities*\n",
    "    - Access elements by positions: a[0]\n",
    "    - Access a range of elements: a[1:3]\n",
    "    - Use Loops: for x in a:\n",
    "*Differences*\n",
    "    - Each element should have same type: string, int, boolean, etc\n",
    "    - Convenient Function: mean(), std()\n",
    "    - Can be multi-dimensional"
   ]
  },
  {
   "cell_type": "code",
   "execution_count": 10,
   "metadata": {
    "collapsed": false
   },
   "outputs": [],
   "source": [
    "import numpy as np\n",
    "\n",
    "countries = np.array(['Afghanistan', 'Albania', 'Algeria', 'Angola', 'Argentina','Armenia', 'Australia', 'Austria', 'Azerbaijan',\n",
    "                      'Bahamas','Bahrain', 'Bangladesh', 'Barbados', 'Belarus', 'Belgium','Belize', 'Benin', 'Bhutan', 'Bolivia',\n",
    "                      'Bosnia and Herzegovina'])\n",
    "\n",
    "employment = np.array([55.70000076,51.40000153,50.5,75.69999695,58.40000153,40.09999847,61.5,57.09999847,60.90000153,66.59999847,\n",
    "                       60.40000153,68.09999847,66.90000153,53.40000153,48.59999847,56.79999924,71.59999847,58.40000153,70.40000153,\n",
    "                       41.20000076])"
   ]
  },
  {
   "cell_type": "code",
   "execution_count": 11,
   "metadata": {
    "collapsed": false
   },
   "outputs": [
    {
     "name": "stdout",
     "output_type": "stream",
     "text": [
      "Afghanistan\n",
      "Angola\n"
     ]
    }
   ],
   "source": [
    "print(countries[0])\n",
    "print(countries[3])"
   ]
  },
  {
   "cell_type": "code",
   "execution_count": 12,
   "metadata": {
    "collapsed": false
   },
   "outputs": [
    {
     "name": "stdout",
     "output_type": "stream",
     "text": [
      "['Afghanistan' 'Albania' 'Algeria']\n",
      "['Afghanistan' 'Albania' 'Algeria']\n",
      "['Bhutan' 'Bolivia' 'Bosnia and Herzegovina']\n",
      "['Afghanistan' 'Albania' 'Algeria' 'Angola' 'Argentina' 'Armenia'\n",
      " 'Australia' 'Austria' 'Azerbaijan' 'Bahamas' 'Bahrain' 'Bangladesh'\n",
      " 'Barbados' 'Belarus' 'Belgium' 'Belize' 'Benin' 'Bhutan' 'Bolivia'\n",
      " 'Bosnia and Herzegovina']\n"
     ]
    }
   ],
   "source": [
    "print(countries[0:3])\n",
    "print(countries[:3])\n",
    "print(countries[17:])\n",
    "print(countries[:])"
   ]
  },
  {
   "cell_type": "code",
   "execution_count": 13,
   "metadata": {
    "collapsed": false
   },
   "outputs": [
    {
     "name": "stdout",
     "output_type": "stream",
     "text": [
      "<U22\n",
      "float64\n",
      "int32\n",
      "float64\n",
      "bool\n",
      "<U2\n"
     ]
    }
   ],
   "source": [
    "print(countries.dtype)\n",
    "print(employment.dtype)\n",
    "print(np.array([0, 1, 2, 3]).dtype)\n",
    "print(np.array([1.0, 1.5, 2.0, 2.5]).dtype)\n",
    "print(np.array([True, False, True]).dtype)\n",
    "print(np.array(['AL', 'AK', 'AZ', 'AR', 'CA']).dtype)"
   ]
  },
  {
   "cell_type": "code",
   "execution_count": 14,
   "metadata": {
    "collapsed": false
   },
   "outputs": [
    {
     "name": "stdout",
     "output_type": "stream",
     "text": [
      "Examining country Afghanistan\n",
      "Examining country Albania\n",
      "Examining country Algeria\n",
      "Examining country Angola\n",
      "Examining country Argentina\n",
      "Examining country Armenia\n",
      "Examining country Australia\n",
      "Examining country Austria\n",
      "Examining country Azerbaijan\n",
      "Examining country Bahamas\n",
      "Examining country Bahrain\n",
      "Examining country Bangladesh\n",
      "Examining country Barbados\n",
      "Examining country Belarus\n",
      "Examining country Belgium\n",
      "Examining country Belize\n",
      "Examining country Benin\n",
      "Examining country Bhutan\n",
      "Examining country Bolivia\n",
      "Examining country Bosnia and Herzegovina\n",
      "Country Afghanistan has employment 55.70000076\n",
      "Country Albania has employment 51.40000153\n",
      "Country Algeria has employment 50.5\n",
      "Country Angola has employment 75.69999695\n",
      "Country Argentina has employment 58.40000153\n",
      "Country Armenia has employment 40.09999847\n",
      "Country Australia has employment 61.5\n",
      "Country Austria has employment 57.09999847\n",
      "Country Azerbaijan has employment 60.90000153\n",
      "Country Bahamas has employment 66.59999847\n",
      "Country Bahrain has employment 60.40000153\n",
      "Country Bangladesh has employment 68.09999847\n",
      "Country Barbados has employment 66.90000153\n",
      "Country Belarus has employment 53.40000153\n",
      "Country Belgium has employment 48.59999847\n",
      "Country Belize has employment 56.79999924\n",
      "Country Benin has employment 71.59999847\n",
      "Country Bhutan has employment 58.40000153\n",
      "Country Bolivia has employment 70.40000153\n",
      "Country Bosnia and Herzegovina has employment 41.20000076\n"
     ]
    }
   ],
   "source": [
    "for country in countries:\n",
    "    print('Examining country {}'.format(country))\n",
    "\n",
    "for i in range(len(countries)):\n",
    "    country = countries[i]\n",
    "    country_employment = employment[i]\n",
    "    print('Country {} has employment {}'.format(country,country_employment))"
   ]
  },
  {
   "cell_type": "code",
   "execution_count": 15,
   "metadata": {
    "collapsed": false
   },
   "outputs": [
    {
     "name": "stdout",
     "output_type": "stream",
     "text": [
      "58.6850000385\n",
      "9.33826911369\n",
      "75.69999695\n",
      "1173.70000077\n"
     ]
    }
   ],
   "source": [
    "print(employment.mean())\n",
    "print(employment.std())\n",
    "print(employment.max())\n",
    "print(employment.sum())"
   ]
  },
  {
   "cell_type": "code",
   "execution_count": 16,
   "metadata": {
    "collapsed": false
   },
   "outputs": [
    {
     "name": "stdout",
     "output_type": "stream",
     "text": [
      "('Angola', 75.699996949999999)\n"
     ]
    }
   ],
   "source": [
    "def max_employment(countries, employment):\n",
    "    \n",
    "    i =employment.argmax()\n",
    "    \n",
    "    max_country = countries[i]\n",
    "    max_value = employment[i]\n",
    "\n",
    "    return (max_country, max_value)\n",
    "\n",
    "print(max_employment(countries,employment))"
   ]
  },
  {
   "cell_type": "markdown",
   "metadata": {},
   "source": [
    "##Vectorized Operation\n",
    "A vector is a list of numbers\n",
    "\n",
    "**Vector Addition:** Adding the corresposing elements of two vectors, e.g., 1,2,3 + 4,5,6 = 5,7,9\n",
    "\n",
    "**Vector Multiplication with Scalar:** Multiplying all the elements with scalar term, e.g., 1,2,3 * 3 = 3,6,9\n",
    "\n",
    "**More Vectorized Operations:** \n",
    "    - Math Operations:\n",
    "        - Add: +\n",
    "        - Subtract: -\n",
    "        - Multiply: *\n",
    "        - Divide: /\n",
    "        - Exponential: **\n",
    "    - Logical Operations (For Boolean Arrays):\n",
    "        - And: &\n",
    "        - Or: |\n",
    "        - Not: ~\n",
    "    - Comparison Operations:\n",
    "        - Greater: >\n",
    "        - Greater or equal: >=\n",
    "        - Less: <\n",
    "        - Less or equal: <=\n",
    "        - Equal: ==\n",
    "        - Not Equal: !="
   ]
  },
  {
   "cell_type": "code",
   "execution_count": 17,
   "metadata": {
    "collapsed": false
   },
   "outputs": [
    {
     "name": "stdout",
     "output_type": "stream",
     "text": [
      "[2 4 4 6]\n",
      "[0 0 2 2]\n",
      "[1 4 3 8]\n",
      "[ 1.  1.  3.  2.]\n",
      "[ 1  4  3 16]\n"
     ]
    }
   ],
   "source": [
    "a = np.array([1, 2, 3, 4])\n",
    "b = np.array([1, 2, 1, 2])\n",
    "\n",
    "print(a + b)\n",
    "print(a - b)\n",
    "print(a * b)\n",
    "print(a / b)\n",
    "print(a ** b)"
   ]
  },
  {
   "cell_type": "code",
   "execution_count": 18,
   "metadata": {
    "collapsed": false
   },
   "outputs": [
    {
     "name": "stdout",
     "output_type": "stream",
     "text": [
      "[3 4 5 6]\n",
      "[-1  0  1  2]\n",
      "[2 4 6 8]\n",
      "[ 0.5  1.   1.5  2. ]\n",
      "[ 1  4  9 16]\n"
     ]
    }
   ],
   "source": [
    "a = np.array([1, 2, 3, 4])\n",
    "b = 2\n",
    "\n",
    "print(a + b)\n",
    "print(a - b)\n",
    "print(a * b)\n",
    "print(a / b)\n",
    "print(a ** b)"
   ]
  },
  {
   "cell_type": "code",
   "execution_count": 19,
   "metadata": {
    "collapsed": false
   },
   "outputs": [
    {
     "name": "stdout",
     "output_type": "stream",
     "text": [
      "[ True False False False]\n",
      "[ True  True  True False]\n",
      "[False False  True  True]\n",
      "[ True  True False False]\n",
      "[False False False False]\n",
      "[ True  True  True  True]\n",
      "[ True  True False False]\n"
     ]
    }
   ],
   "source": [
    "a = np.array([True, True, False, False])\n",
    "b = np.array([True, False, True, False])\n",
    "\n",
    "print(a & b)\n",
    "print(a | b)\n",
    "print(~a)\n",
    "\n",
    "print(a & True)\n",
    "print(a & False)\n",
    "\n",
    "print(a | True)\n",
    "print(a | False)"
   ]
  },
  {
   "cell_type": "code",
   "execution_count": 20,
   "metadata": {
    "collapsed": false
   },
   "outputs": [
    {
     "name": "stdout",
     "output_type": "stream",
     "text": [
      "[False False False  True  True]\n",
      "[False False  True  True  True]\n",
      "[ True  True False False False]\n",
      "[ True  True  True False False]\n",
      "[False False  True False False]\n",
      "[ True  True False  True  True]\n"
     ]
    }
   ],
   "source": [
    "a = np.array([1, 2, 3, 4, 5])\n",
    "b = np.array([5, 4, 3, 2, 1])\n",
    "\n",
    "print(a > b)\n",
    "print(a >= b)\n",
    "print(a < b)\n",
    "print(a <= b)\n",
    "print(a == b)\n",
    "print(a != b)"
   ]
  },
  {
   "cell_type": "code",
   "execution_count": 21,
   "metadata": {
    "collapsed": false
   },
   "outputs": [
    {
     "name": "stdout",
     "output_type": "stream",
     "text": [
      "[False False  True  True]\n",
      "[False  True  True  True]\n",
      "[ True False False False]\n",
      "[ True  True False False]\n",
      "[False  True False False]\n",
      "[ True False  True  True]\n"
     ]
    }
   ],
   "source": [
    "a = np.array([1, 2, 3, 4])\n",
    "b = 2\n",
    "\n",
    "print(a > b)\n",
    "print(a >= b)\n",
    "print(a < b)\n",
    "print(a <= b)\n",
    "print(a == b)\n",
    "print(a != b)"
   ]
  },
  {
   "cell_type": "code",
   "execution_count": 22,
   "metadata": {
    "collapsed": true
   },
   "outputs": [],
   "source": [
    "countries = np.array(['Algeria', 'Argentina', 'Armenia', 'Aruba', 'Austria','Azerbaijan','Bahamas', 'Barbados', 'Belarus',\n",
    "                      'Belgium', 'Belize', 'Bolivia','Botswana', 'Brunei', 'Bulgaria', 'Burkina Faso', 'Burundi','Cambodia',\n",
    "                      'Cameroon', 'Cape Verde'])\n",
    "\n",
    "female_completion = np.array([97.35583, 104.62379, 103.02998, 95.14321, 103.69019, 98.49185, 100.88828, 95.43974, 92.11484,\n",
    "                              91.54804, 95.98029, 98.22902, 96.12179, 119.28105, 97.84627, 29.07386, 38.41644, 90.70509,\n",
    "                              51.7478, 95.45072])\n",
    "\n",
    "male_completion = np.array([95.47622, 100.66476, 99.7926, 91.48936, 103.22096, 97.80458, 103.81398, 88.11736, 93.55611,\n",
    "                            87.76347, 102.45714, 98.73953, 92.22388, 115.3892 , 98.70502, 37.00692, 45.39401, 91.22084,\n",
    "                            62.42028, 90.66958])"
   ]
  },
  {
   "cell_type": "code",
   "execution_count": 25,
   "metadata": {
    "collapsed": true
   },
   "outputs": [],
   "source": [
    "def overall_completion_rate(female_completion, male_completion): \n",
    "    overall_completion_rate_by_country = (female_completion + male_completion)/2.0\n",
    "    return overall_completion_rate_by_country"
   ]
  },
  {
   "cell_type": "code",
   "execution_count": 26,
   "metadata": {
    "collapsed": false
   },
   "outputs": [
    {
     "name": "stdout",
     "output_type": "stream",
     "text": [
      "[  96.416025  102.644275  101.41129    93.316285  103.455575   98.148215\n",
      "  102.35113    91.77855    92.835475   89.655755   99.218715   98.484275\n",
      "   94.172835  117.335125   98.275645   33.04039    41.905225   90.962965\n",
      "   57.08404    93.06015 ]\n"
     ]
    }
   ],
   "source": [
    "print(overall_completion_rate(female_completion,male_completion))"
   ]
  },
  {
   "cell_type": "markdown",
   "metadata": {},
   "source": [
    "##Standarizing Data\n",
    "How does one data point compare to the rest?\n",
    "\n",
    "Ways to answer: Convert each data point to number of standard deviations away from the mean\n",
    "\n",
    "For eg: Mean Employment Rate: 58.6%, Standard Deviations: 10.5%, United States: 62.3%.\n",
    "\n",
    "Thus, Difference b/w Total and Mean Rate = 3.7% or 0.35 sd\n",
    "\n",
    "For Maxico with 57.9%, difference = -0.7% or -0.067 sd"
   ]
  },
  {
   "cell_type": "code",
   "execution_count": 27,
   "metadata": {
    "collapsed": true
   },
   "outputs": [],
   "source": [
    "countries = np.array(['Afghanistan', 'Albania', 'Algeria', 'Angola', 'Argentina', 'Armenia', 'Australia', 'Austria',\n",
    "                      'Azerbaijan', 'Bahamas', 'Bahrain', 'Bangladesh', 'Barbados', 'Belarus', 'Belgium', 'Belize',\n",
    "                      'Benin', 'Bhutan', 'Bolivia', 'Bosnia and Herzegovina'])\n",
    "\n",
    "employment = np.array([55.70000076, 51.40000153, 50.5, 75.69999695, 58.40000153, 40.09999847, 61.5, 57.09999847, 60.90000153,\n",
    "                       66.59999847, 60.40000153, 68.09999847, 66.90000153, 53.40000153, 48.59999847, 56.79999924,\n",
    "                       71.59999847, 58.40000153, 70.40000153, 41.20000076])"
   ]
  },
  {
   "cell_type": "code",
   "execution_count": 29,
   "metadata": {
    "collapsed": true
   },
   "outputs": [],
   "source": [
    "# Change this country name to change what country will be printed when you\n",
    "# click \"Test Run\". Your function will be called to determine the standardized\n",
    "# score for this country for each of the given 5 Gapminder variables in 2007.\n",
    "# The possible country names are available in the Downloadables section.\n",
    "\n",
    "country_name = 'United States'\n",
    "\n",
    "def standardize_data(values):\n",
    "    \n",
    "    mean_value = values.mean()\n",
    "    std_value = values.std()\n",
    "    standard_values = (mean_value - values)/std_value\n",
    "    return standard_values"
   ]
  },
  {
   "cell_type": "code",
   "execution_count": 31,
   "metadata": {
    "collapsed": false
   },
   "outputs": [
    {
     "name": "stdout",
     "output_type": "stream",
     "text": [
      "[ 0.31965231  0.780123    0.87650077 -1.82207181  0.03051941  1.99019768\n",
      " -0.30144772  0.16973184 -0.23719615 -0.84758731 -0.18365304 -1.00821665\n",
      " -0.87971351  0.56595055  1.07996476  0.20185762 -1.38301845  0.03051941\n",
      " -1.2545153   1.87240259]\n"
     ]
    }
   ],
   "source": [
    "print(standardize_data(employment))"
   ]
  },
  {
   "cell_type": "code",
   "execution_count": null,
   "metadata": {
    "collapsed": true
   },
   "outputs": [],
   "source": []
  }
 ],
 "metadata": {
  "kernelspec": {
   "display_name": "Python 3",
   "language": "python",
   "name": "python3"
  },
  "language_info": {
   "codemirror_mode": {
    "name": "ipython",
    "version": 3
   },
   "file_extension": ".py",
   "mimetype": "text/x-python",
   "name": "python",
   "nbconvert_exporter": "python",
   "pygments_lexer": "ipython3",
   "version": "3.4.3"
  }
 },
 "nbformat": 4,
 "nbformat_minor": 0
}
