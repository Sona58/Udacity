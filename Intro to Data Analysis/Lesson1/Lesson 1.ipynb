{
 "cells": [
  {
   "cell_type": "markdown",
   "metadata": {},
   "source": [
    "# Import CSV\n",
    "\n",
    "## Method 1:\n",
    "### Using UnicodeCSV Package"
   ]
  },
  {
   "cell_type": "code",
   "execution_count": 1,
   "metadata": {
    "collapsed": false
   },
   "outputs": [
    {
     "data": {
      "text/plain": [
       "{'account_key': '448',\n",
       " 'cancel_date': '2015-01-14',\n",
       " 'days_to_cancel': '65',\n",
       " 'is_canceled': 'True',\n",
       " 'is_udacity': 'True',\n",
       " 'join_date': '2014-11-10',\n",
       " 'status': 'canceled'}"
      ]
     },
     "execution_count": 1,
     "metadata": {},
     "output_type": "execute_result"
    }
   ],
   "source": [
    "import unicodecsv\n",
    "enrollments = []\n",
    "f = open('enrollments.csv','rb')\n",
    "reader = unicodecsv.DictReader(f)\n",
    "\n",
    "for row in reader:\n",
    "    enrollments.append(row)\n",
    "    \n",
    "f.close()\n",
    "\n",
    "enrollments[0]"
   ]
  },
  {
   "cell_type": "code",
   "execution_count": 2,
   "metadata": {
    "collapsed": false
   },
   "outputs": [],
   "source": [
    "enrollments_filename = 'enrollments.csv'\n",
    "with open(enrollments_filename, 'rb') as f:\n",
    "    reader = unicodecsv.DictReader(f)\n",
    "    enrollments = list(reader)"
   ]
  },
  {
   "cell_type": "code",
   "execution_count": 3,
   "metadata": {
    "collapsed": false
   },
   "outputs": [
    {
     "data": {
      "text/plain": [
       "{'account_key': '448',\n",
       " 'cancel_date': '2015-01-14',\n",
       " 'days_to_cancel': '65',\n",
       " 'is_canceled': 'True',\n",
       " 'is_udacity': 'True',\n",
       " 'join_date': '2014-11-10',\n",
       " 'status': 'canceled'}"
      ]
     },
     "execution_count": 3,
     "metadata": {},
     "output_type": "execute_result"
    }
   ],
   "source": [
    "enrollments[0]"
   ]
  },
  {
   "cell_type": "code",
   "execution_count": 4,
   "metadata": {
    "collapsed": true
   },
   "outputs": [],
   "source": [
    "engagement_filename = 'daily_engagement.csv'\n",
    "submissions_filename = 'project_submissions.csv'\n",
    "\n",
    "with open(engagement_filename, 'rb') as f:\n",
    "    reader = unicodecsv.DictReader(f)\n",
    "    daily_engagement = list(reader)\n",
    "    \n",
    "with open(submissions_filename, 'rb') as f:\n",
    "    reader = unicodecsv.DictReader(f)\n",
    "    project_submissions = list(reader)"
   ]
  },
  {
   "cell_type": "code",
   "execution_count": 5,
   "metadata": {
    "collapsed": false
   },
   "outputs": [
    {
     "data": {
      "text/plain": [
       "{'acct': '0',\n",
       " 'lessons_completed': '0.0',\n",
       " 'num_courses_visited': '1.0',\n",
       " 'projects_completed': '0.0',\n",
       " 'total_minutes_visited': '11.6793745',\n",
       " 'utc_date': '2015-01-09'}"
      ]
     },
     "execution_count": 5,
     "metadata": {},
     "output_type": "execute_result"
    }
   ],
   "source": [
    "daily_engagement[0]"
   ]
  },
  {
   "cell_type": "code",
   "execution_count": 6,
   "metadata": {
    "collapsed": false
   },
   "outputs": [
    {
     "data": {
      "text/plain": [
       "{'account_key': '256',\n",
       " 'assigned_rating': 'UNGRADED',\n",
       " 'completion_date': '2015-01-16',\n",
       " 'creation_date': '2015-01-14',\n",
       " 'lesson_key': '3176718735',\n",
       " 'processing_state': 'EVALUATED'}"
      ]
     },
     "execution_count": 6,
     "metadata": {},
     "output_type": "execute_result"
    }
   ],
   "source": [
    "project_submissions[0]"
   ]
  },
  {
   "cell_type": "markdown",
   "metadata": {},
   "source": [
    "Since we are doing the same thing everytime, it's better to create a function instead"
   ]
  },
  {
   "cell_type": "code",
   "execution_count": 7,
   "metadata": {
    "collapsed": true
   },
   "outputs": [],
   "source": [
    "def read_csv(filename):\n",
    "    with open(filename, 'rb') as f:\n",
    "        reader = unicodecsv.DictReader(f)\n",
    "        return list(reader)"
   ]
  },
  {
   "cell_type": "markdown",
   "metadata": {},
   "source": [
    "Thus, it goes like..."
   ]
  },
  {
   "cell_type": "code",
   "execution_count": 8,
   "metadata": {
    "collapsed": false
   },
   "outputs": [],
   "source": [
    "enrollments = read_csv(enrollments_filename)"
   ]
  },
  {
   "cell_type": "code",
   "execution_count": 9,
   "metadata": {
    "collapsed": true
   },
   "outputs": [],
   "source": [
    "daily_engagement = read_csv(engagement_filename)"
   ]
  },
  {
   "cell_type": "code",
   "execution_count": 10,
   "metadata": {
    "collapsed": true
   },
   "outputs": [],
   "source": [
    "project_submissions = read_csv(submissions_filename)"
   ]
  },
  {
   "cell_type": "markdown",
   "metadata": {},
   "source": [
    "# Fixing Datatypes"
   ]
  },
  {
   "cell_type": "code",
   "execution_count": 11,
   "metadata": {
    "collapsed": true
   },
   "outputs": [],
   "source": [
    "from datetime import datetime as dt\n",
    "\n",
    "# Takes a date as a string, and returns a Python datetime object. \n",
    "# If there is no date given, returns None\n",
    "def parse_date(date):\n",
    "    if date == '':\n",
    "        return None\n",
    "    else:\n",
    "        return dt.strptime(date, '%Y-%m-%d')\n",
    "    \n",
    "# Takes a string which is either an empty string or represents an integer,\n",
    "# and returns an int or None.\n",
    "def parse_maybe_int(i):\n",
    "    if i == '':\n",
    "        return None\n",
    "    else:\n",
    "        return int(i)\n",
    "\n",
    "# Clean up the data types in the enrollments table\n",
    "for enrollment in enrollments:\n",
    "    enrollment['cancel_date'] = parse_date(enrollment['cancel_date'])\n",
    "    enrollment['days_to_cancel'] = parse_maybe_int(enrollment['days_to_cancel'])\n",
    "    enrollment['is_canceled'] = enrollment['is_canceled'] == 'True'\n",
    "    enrollment['is_udacity'] = enrollment['is_udacity'] == 'True'\n",
    "    enrollment['join_date'] = parse_date(enrollment['join_date'])"
   ]
  },
  {
   "cell_type": "code",
   "execution_count": 12,
   "metadata": {
    "collapsed": false
   },
   "outputs": [
    {
     "data": {
      "text/plain": [
       "{'account_key': '448',\n",
       " 'cancel_date': datetime.datetime(2015, 1, 14, 0, 0),\n",
       " 'days_to_cancel': 65,\n",
       " 'is_canceled': True,\n",
       " 'is_udacity': True,\n",
       " 'join_date': datetime.datetime(2014, 11, 10, 0, 0),\n",
       " 'status': 'canceled'}"
      ]
     },
     "execution_count": 12,
     "metadata": {},
     "output_type": "execute_result"
    }
   ],
   "source": [
    "enrollments[0]"
   ]
  },
  {
   "cell_type": "code",
   "execution_count": 13,
   "metadata": {
    "collapsed": false
   },
   "outputs": [
    {
     "data": {
      "text/plain": [
       "{'account_key': '256',\n",
       " 'assigned_rating': 'UNGRADED',\n",
       " 'completion_date': datetime.datetime(2015, 1, 16, 0, 0),\n",
       " 'creation_date': datetime.datetime(2015, 1, 14, 0, 0),\n",
       " 'lesson_key': '3176718735',\n",
       " 'processing_state': 'EVALUATED'}"
      ]
     },
     "execution_count": 13,
     "metadata": {},
     "output_type": "execute_result"
    }
   ],
   "source": [
    "# Clean up the data types in the engagement table\n",
    "for engagement_record in daily_engagement:\n",
    "    engagement_record['lessons_completed'] = int(float(engagement_record['lessons_completed']))\n",
    "    engagement_record['num_courses_visited'] = int(float(engagement_record['num_courses_visited']))\n",
    "    engagement_record['projects_completed'] = int(float(engagement_record['projects_completed']))\n",
    "    engagement_record['total_minutes_visited'] = float(engagement_record['total_minutes_visited'])\n",
    "    engagement_record['utc_date'] = parse_date(engagement_record['utc_date'])\n",
    "    \n",
    "daily_engagement[0]\n",
    "\n",
    "# Clean up the data types in the submissions table\n",
    "for submission in project_submissions:\n",
    "    submission['completion_date'] = parse_date(submission['completion_date'])\n",
    "    submission['creation_date'] = parse_date(submission['creation_date'])\n",
    "\n",
    "project_submissions[0]"
   ]
  },
  {
   "cell_type": "markdown",
   "metadata": {},
   "source": [
    "**NOTE: Data Analysis Phase**\n",
    "    1. Question Phase\n",
    "    2. Wrangling Phase\n",
    "        - Data Acquisition\n",
    "        - Data Cleaning\n",
    "    3. Exploring Phase\n",
    "        - Build Intuition\n",
    "        - Find Patterns\n",
    "    4. Drawing Conclusion / Prediction Phase\n",
    "    5. Communicating Phase"
   ]
  },
  {
   "cell_type": "markdown",
   "metadata": {},
   "source": [
    "# Question Phase\n",
    "\n",
    "    1. How long would it take students to complete project?\n",
    "    2. What are the characteristics of a student who has completed the project and who hasn't?\n",
    "    3. On an average, how many students enrolled but cancel their nanodegree per month?\n",
    "    4. How many people are interested in nanodegree but didn't enroll?"
   ]
  },
  {
   "cell_type": "markdown",
   "metadata": {},
   "source": [
    "# Wrangling Phase\n",
    "\n",
    "##Data Investigation"
   ]
  },
  {
   "cell_type": "markdown",
   "metadata": {},
   "source": [
    "###Number of Rows and unique number of rows in each table"
   ]
  },
  {
   "cell_type": "code",
   "execution_count": 14,
   "metadata": {
    "collapsed": false
   },
   "outputs": [
    {
     "name": "stdout",
     "output_type": "stream",
     "text": [
      "1640\n",
      "1302\n",
      "136240\n",
      "1237\n",
      "3642\n",
      "743\n"
     ]
    }
   ],
   "source": [
    "def check_number(tablename):\n",
    "    return len(tablename)\n",
    "    \n",
    "def check_unique(tablename, unique_field):\n",
    "    unique_tablename = set()\n",
    "    for tab in tablename:\n",
    "        unique_tablename.add(tab[unique_field])\n",
    "    return unique_tablename\n",
    "\n",
    "enrollment_unique = check_unique(enrollments,\"account_key\")\n",
    "enrollment_num_rows = check_number(enrollments)\n",
    "enrollment_num_unique_students = check_number(enrollment_unique)\n",
    "\n",
    "engagement_unique = check_unique(daily_engagement,\"acct\")\n",
    "engagement_num_rows = check_number(daily_engagement)\n",
    "engagement_num_unique_students = check_number(engagement_unique)\n",
    "\n",
    "submission_unique = check_unique(project_submissions,\"account_key\")\n",
    "submission_num_rows = check_number(project_submissions)\n",
    "submission_num_unique_students = check_number(submission_unique)\n",
    "\n",
    "\n",
    "# Printing all\n",
    "print(enrollment_num_rows)\n",
    "print(enrollment_num_unique_students)\n",
    "\n",
    "print(engagement_num_rows)\n",
    "print(engagement_num_unique_students)\n",
    "\n",
    "print(submission_num_rows)\n",
    "print(submission_num_unique_students)"
   ]
  },
  {
   "cell_type": "markdown",
   "metadata": {},
   "source": [
    "###Problem with Data\n",
    "\n",
    "As seen in the table there is 'account_key' in two table and 'acct' in the third. Fixing That ..."
   ]
  },
  {
   "cell_type": "code",
   "execution_count": 15,
   "metadata": {
    "collapsed": false
   },
   "outputs": [],
   "source": [
    "for tab in daily_engagement:\n",
    "    tab['account_key'] = tab['acct']\n",
    "    del tab['acct']"
   ]
  },
  {
   "cell_type": "code",
   "execution_count": 16,
   "metadata": {
    "collapsed": false
   },
   "outputs": [
    {
     "data": {
      "text/plain": [
       "'0'"
      ]
     },
     "execution_count": 16,
     "metadata": {},
     "output_type": "execute_result"
    }
   ],
   "source": [
    "daily_engagement[0]['account_key']"
   ]
  },
  {
   "cell_type": "markdown",
   "metadata": {
    "collapsed": false
   },
   "source": [
    "Why are students missing from daily_engagement?\n",
    "\n",
    "Steps to be followed to solve:\n",
    "    1. Identify suprising data points, if any\n",
    "        - Any enrollment record with no corresponding engagement data\n",
    "    2. Print out one or a few surprising data points\n",
    "    3. Fix any problems you find\n",
    "        - More investigation you find\n",
    "        - Or there isn't any problem at all\n",
    "    \n",
    "###Missing Engagement Record"
   ]
  },
  {
   "cell_type": "code",
   "execution_count": 17,
   "metadata": {
    "collapsed": false
   },
   "outputs": [
    {
     "data": {
      "text/plain": [
       "65"
      ]
     },
     "execution_count": 17,
     "metadata": {},
     "output_type": "execute_result"
    }
   ],
   "source": [
    "missing = set()\n",
    "for enroll in enrollment_unique:\n",
    "    if enroll not in engagement_unique:\n",
    "        missing.add(enroll)\n",
    "len(missing)"
   ]
  },
  {
   "cell_type": "markdown",
   "metadata": {},
   "source": [
    "Thus, there are 65 unique surprising data points\n",
    "\n",
    "Finding First Surprising data point"
   ]
  },
  {
   "cell_type": "code",
   "execution_count": 18,
   "metadata": {
    "collapsed": false
   },
   "outputs": [
    {
     "name": "stdout",
     "output_type": "stream",
     "text": [
      "{'account_key': '1219', 'cancel_date': datetime.datetime(2014, 11, 12, 0, 0), 'join_date': datetime.datetime(2014, 11, 12, 0, 0), 'days_to_cancel': 0, 'is_canceled': True, 'status': 'canceled', 'is_udacity': False}\n"
     ]
    }
   ],
   "source": [
    "for enrollment in enrollments:\n",
    "    student  = enrollment['account_key']\n",
    "    if student not in engagement_unique:\n",
    "        print(enrollment)\n",
    "        break"
   ]
  },
  {
   "cell_type": "markdown",
   "metadata": {},
   "source": [
    "###Checking for More Problem Records\n",
    "\n",
    "If there is any record of enrollment table not present in engagement table but the person is active for at least a day"
   ]
  },
  {
   "cell_type": "code",
   "execution_count": 19,
   "metadata": {
    "collapsed": false
   },
   "outputs": [
    {
     "data": {
      "text/plain": [
       "3"
      ]
     },
     "execution_count": 19,
     "metadata": {},
     "output_type": "execute_result"
    }
   ],
   "source": [
    "number_of_students = 0\n",
    "for enrollment in enrollments:\n",
    "    student  = enrollment['account_key']\n",
    "    if student not in engagement_unique and (enrollment['days_to_cancel'] != 0 or enrollment['days_to_cancel'] == None) :\n",
    "        number_of_students += 1\n",
    "number_of_students"
   ]
  },
  {
   "cell_type": "markdown",
   "metadata": {},
   "source": [
    "Thus, there are 3 problem record still in the data"
   ]
  },
  {
   "cell_type": "markdown",
   "metadata": {},
   "source": [
    "###Tracking Down Remaining Problems\n",
    "The above 3 records has is_udacity column value as True, thus, they are test account. So there isn't any problem, hence we should exclude them."
   ]
  },
  {
   "cell_type": "code",
   "execution_count": 20,
   "metadata": {
    "collapsed": false
   },
   "outputs": [
    {
     "data": {
      "text/plain": [
       "6"
      ]
     },
     "execution_count": 20,
     "metadata": {},
     "output_type": "execute_result"
    }
   ],
   "source": [
    "udacity_test_accounts = set()\n",
    "for enrollment in enrollments:\n",
    "    if enrollment['is_udacity']:\n",
    "        udacity_test_accounts.add(enrollment['account_key'])\n",
    "len(udacity_test_accounts)"
   ]
  },
  {
   "cell_type": "markdown",
   "metadata": {},
   "source": [
    "To remove these records (we don't need them for future analysis), we will define a function as:"
   ]
  },
  {
   "cell_type": "code",
   "execution_count": 21,
   "metadata": {
    "collapsed": true
   },
   "outputs": [],
   "source": [
    "def remove_udacity_accounts(data):\n",
    "    non_udacity_data = []\n",
    "    for data_point in data:\n",
    "        if data_point ['account_key'] not in udacity_test_accounts:\n",
    "            non_udacity_data.append(data_point)\n",
    "    return non_udacity_data"
   ]
  },
  {
   "cell_type": "code",
   "execution_count": 22,
   "metadata": {
    "collapsed": false
   },
   "outputs": [
    {
     "name": "stdout",
     "output_type": "stream",
     "text": [
      "1622\n",
      "135656\n",
      "3634\n"
     ]
    }
   ],
   "source": [
    "non_udacity_enrollments = remove_udacity_accounts(enrollments)\n",
    "non_udacity_engagement = remove_udacity_accounts(daily_engagement)\n",
    "non_udacity_submissions = remove_udacity_accounts(project_submissions)\n",
    "\n",
    "print(len(non_udacity_enrollments))\n",
    "print(len(non_udacity_engagement))\n",
    "print(len(non_udacity_submissions))"
   ]
  },
  {
   "cell_type": "markdown",
   "metadata": {},
   "source": [
    "#Explore Phase\n",
    "\n",
    "Question: How do numbers in the daily engagement table differ for students who pass the fisrt project?\n",
    "\n",
    "Problems in solving this:\n",
    "    1. The table will include data from after the project submission\n",
    "    2. The table compares data from different lengths of time\n",
    "    3. It includes engagement in courses not related to the first project\n",
    "    \n",
    "Revision: Only look at the engagement from first week, and exclude students who cancel within a week\n",
    "\n",
    "Steps To Be Taken:\n",
    "    1. Creating dictionary for:\n",
    "        - students who haven't canceled yet (days_to_cancel == None)\n",
    "        - students who stayed enrolled for more than 7 days (days_to_cancel > 7)"
   ]
  },
  {
   "cell_type": "code",
   "execution_count": 23,
   "metadata": {
    "collapsed": false
   },
   "outputs": [
    {
     "data": {
      "text/plain": [
       "995"
      ]
     },
     "execution_count": 23,
     "metadata": {},
     "output_type": "execute_result"
    }
   ],
   "source": [
    "paid_students = {}\n",
    "for enroll in non_udacity_enrollments:\n",
    "    if not enroll['is_canceled'] or enroll['days_to_cancel'] > 7:\n",
    "        account_key = enroll['account_key']\n",
    "        enrollment_date = enroll['join_date']\n",
    "        if account_key not in paid_students or enrollment_date > paid_students[account_key]:\n",
    "            paid_students[account_key] = enrollment_date\n",
    "len(paid_students)"
   ]
  },
  {
   "cell_type": "markdown",
   "metadata": {},
   "source": [
    "Creating a list of rows from the engagement table including only rows where the students is one of the paid students you just found, and the date is within one week of the student's join date"
   ]
  },
  {
   "cell_type": "code",
   "execution_count": 24,
   "metadata": {
    "collapsed": true
   },
   "outputs": [],
   "source": [
    "def within_one_week(join_date,engagement_date):\n",
    "    time_delta = engagement_date - join_date\n",
    "    return time_delta.days < 7"
   ]
  },
  {
   "cell_type": "code",
   "execution_count": 25,
   "metadata": {
    "collapsed": true
   },
   "outputs": [],
   "source": [
    "def remove_free_trial_cancels(data):\n",
    "    new_data = []\n",
    "    for data_point in data:\n",
    "        if data_point['account_key'] in paid_students:\n",
    "            new_data.append(data_point)\n",
    "    return new_data"
   ]
  },
  {
   "cell_type": "code",
   "execution_count": 26,
   "metadata": {
    "collapsed": false
   },
   "outputs": [
    {
     "name": "stdout",
     "output_type": "stream",
     "text": [
      "1293\n",
      "134549\n",
      "3618\n"
     ]
    }
   ],
   "source": [
    "paid_enrollments = remove_free_trial_cancels(non_udacity_enrollments)\n",
    "paid_engagement = remove_free_trial_cancels(non_udacity_engagement)\n",
    "paid_submissions = remove_free_trial_cancels(non_udacity_submissions)\n",
    "\n",
    "print(len(paid_enrollments))\n",
    "print(len(paid_engagement))\n",
    "print(len(paid_submissions))"
   ]
  },
  {
   "cell_type": "code",
   "execution_count": 27,
   "metadata": {
    "collapsed": false
   },
   "outputs": [
    {
     "data": {
      "text/plain": [
       "21508"
      ]
     },
     "execution_count": 27,
     "metadata": {},
     "output_type": "execute_result"
    }
   ],
   "source": [
    "paid_engagement_in_first_week = []\n",
    "for engagement_record in paid_engagement:\n",
    "    account_key = engagement_record['account_key']\n",
    "    join_date = paid_students[account_key]\n",
    "    engagement_record_date = engagement_record['utc_date']\n",
    "\n",
    "    if within_one_week(join_date, engagement_record_date):\n",
    "         paid_engagement_in_first_week.append(engagement_record)\n",
    "\n",
    "len(paid_engagement_in_first_week)"
   ]
  },
  {
   "cell_type": "markdown",
   "metadata": {},
   "source": [
    "###Exploring Student Engagement\n",
    "Calculating Average Time Spent by an individual"
   ]
  },
  {
   "cell_type": "code",
   "execution_count": 28,
   "metadata": {
    "collapsed": true
   },
   "outputs": [],
   "source": [
    "from collections import defaultdict\n",
    "\n",
    "engagement_by_account = defaultdict(list)\n",
    "for engagement_record in paid_engagement_in_first_week:\n",
    "    account_key = engagement_record['account_key']\n",
    "    engagement_by_account[account_key].append(engagement_record)"
   ]
  },
  {
   "cell_type": "code",
   "execution_count": 29,
   "metadata": {
    "collapsed": false
   },
   "outputs": [],
   "source": [
    "total_minutes_by_account = {}\n",
    "\n",
    "for account_key, engagement_for_student in engagement_by_account.items():\n",
    "    total_minutes = 0\n",
    "    for engagement_record in engagement_for_student:\n",
    "        total_minutes += engagement_record['total_minutes_visited']\n",
    "    total_minutes_by_account[account_key] = total_minutes"
   ]
  },
  {
   "cell_type": "code",
   "execution_count": 30,
   "metadata": {
    "collapsed": false
   },
   "outputs": [
    {
     "name": "stdout",
     "output_type": "stream",
     "text": [
      "Mean: 647.590173826\n",
      "Standard Deviation: 1129.27121042\n",
      "Minimum: 0.0\n",
      "Maximum: 10568.1008673\n"
     ]
    }
   ],
   "source": [
    "total_minutes = list(total_minutes_by_account.values())\n",
    "\n",
    "import numpy as np\n",
    "\n",
    "print(\"Mean:\",np.mean(total_minutes))\n",
    "print(\"Standard Deviation:\",np.std(total_minutes))\n",
    "print(\"Minimum:\",np.min(total_minutes))\n",
    "print(\"Maximum:\",np.max(total_minutes))"
   ]
  },
  {
   "cell_type": "markdown",
   "metadata": {
    "collapsed": true
   },
   "source": [
    "Total number of minutes in 1 week = 10080 minutes. But here max = 10568.1008673. Thus, there is some problem.\n",
    "###Debugging Data Problem\n",
    "\n",
    "Steps to do that:\n",
    "    1. Identify surprising data points\n",
    "    2. Print out one or few surprising points\n",
    "    3. Fix any problem you find\n",
    "\n",
    "The bug is actually in the initial code. Let's find it out.\n",
    "\n",
    "We need to find the student whose result is giving maximum time as 10568."
   ]
  },
  {
   "cell_type": "code",
   "execution_count": 31,
   "metadata": {
    "collapsed": false
   },
   "outputs": [
    {
     "data": {
      "text/plain": [
       "10568.100867332541"
      ]
     },
     "execution_count": 31,
     "metadata": {},
     "output_type": "execute_result"
    }
   ],
   "source": [
    "students_with_max_minutes = None\n",
    "max_minutes = 0\n",
    "\n",
    "for students, total_minutes in total_minutes_by_account.items():\n",
    "    if total_minutes > max_minutes:\n",
    "        max_minutes = total_minutes\n",
    "        students_with_max_minutes = students\n",
    "        \n",
    "max_minutes"
   ]
  },
  {
   "cell_type": "markdown",
   "metadata": {},
   "source": [
    "It's same as the maximum time. Thus, print out the records associated with this total time."
   ]
  },
  {
   "cell_type": "code",
   "execution_count": 32,
   "metadata": {
    "collapsed": false
   },
   "outputs": [
    {
     "name": "stdout",
     "output_type": "stream",
     "text": [
      "{'account_key': '108', 'total_minutes_visited': 50.9938951667, 'num_courses_visited': 1, 'utc_date': datetime.datetime(2015, 1, 7, 0, 0), 'lessons_completed': 0, 'projects_completed': 0}\n",
      "{'account_key': '108', 'total_minutes_visited': 688.3034385, 'num_courses_visited': 2, 'utc_date': datetime.datetime(2015, 1, 8, 0, 0), 'lessons_completed': 5, 'projects_completed': 0}\n",
      "{'account_key': '108', 'total_minutes_visited': 427.691757667, 'num_courses_visited': 2, 'utc_date': datetime.datetime(2015, 1, 9, 0, 0), 'lessons_completed': 1, 'projects_completed': 0}\n",
      "{'account_key': '108', 'total_minutes_visited': 165.6270925, 'num_courses_visited': 3, 'utc_date': datetime.datetime(2015, 1, 10, 0, 0), 'lessons_completed': 0, 'projects_completed': 0}\n",
      "{'account_key': '108', 'total_minutes_visited': 0.0, 'num_courses_visited': 0, 'utc_date': datetime.datetime(2015, 1, 11, 0, 0), 'lessons_completed': 0, 'projects_completed': 0}\n",
      "{'account_key': '108', 'total_minutes_visited': 199.746703834, 'num_courses_visited': 2, 'utc_date': datetime.datetime(2015, 1, 12, 0, 0), 'lessons_completed': 0, 'projects_completed': 0}\n",
      "{'account_key': '108', 'total_minutes_visited': 522.626804333, 'num_courses_visited': 1, 'utc_date': datetime.datetime(2015, 1, 13, 0, 0), 'lessons_completed': 0, 'projects_completed': 0}\n",
      "{'account_key': '108', 'total_minutes_visited': 19.3757686667, 'num_courses_visited': 1, 'utc_date': datetime.datetime(2015, 1, 14, 0, 0), 'lessons_completed': 0, 'projects_completed': 0}\n",
      "{'account_key': '108', 'total_minutes_visited': 159.846594, 'num_courses_visited': 1, 'utc_date': datetime.datetime(2015, 1, 15, 0, 0), 'lessons_completed': 1, 'projects_completed': 0}\n",
      "{'account_key': '108', 'total_minutes_visited': 188.953028166, 'num_courses_visited': 2, 'utc_date': datetime.datetime(2015, 1, 16, 0, 0), 'lessons_completed': 0, 'projects_completed': 0}\n",
      "{'account_key': '108', 'total_minutes_visited': 150.338208833, 'num_courses_visited': 3, 'utc_date': datetime.datetime(2015, 1, 17, 0, 0), 'lessons_completed': 1, 'projects_completed': 0}\n",
      "{'account_key': '108', 'total_minutes_visited': 46.2042118333, 'num_courses_visited': 2, 'utc_date': datetime.datetime(2015, 1, 18, 0, 0), 'lessons_completed': 0, 'projects_completed': 0}\n",
      "{'account_key': '108', 'total_minutes_visited': 0.0, 'num_courses_visited': 0, 'utc_date': datetime.datetime(2015, 1, 19, 0, 0), 'lessons_completed': 0, 'projects_completed': 0}\n",
      "{'account_key': '108', 'total_minutes_visited': 0.0, 'num_courses_visited': 0, 'utc_date': datetime.datetime(2015, 1, 20, 0, 0), 'lessons_completed': 0, 'projects_completed': 0}\n",
      "{'account_key': '108', 'total_minutes_visited': 0.0, 'num_courses_visited': 0, 'utc_date': datetime.datetime(2015, 1, 21, 0, 0), 'lessons_completed': 0, 'projects_completed': 0}\n",
      "{'account_key': '108', 'total_minutes_visited': 31.7297723333, 'num_courses_visited': 2, 'utc_date': datetime.datetime(2015, 1, 22, 0, 0), 'lessons_completed': 0, 'projects_completed': 0}\n",
      "{'account_key': '108', 'total_minutes_visited': 206.586538333, 'num_courses_visited': 1, 'utc_date': datetime.datetime(2015, 1, 23, 0, 0), 'lessons_completed': 0, 'projects_completed': 0}\n",
      "{'account_key': '108', 'total_minutes_visited': 0.0, 'num_courses_visited': 0, 'utc_date': datetime.datetime(2015, 1, 24, 0, 0), 'lessons_completed': 0, 'projects_completed': 0}\n",
      "{'account_key': '108', 'total_minutes_visited': 0.0, 'num_courses_visited': 0, 'utc_date': datetime.datetime(2015, 1, 25, 0, 0), 'lessons_completed': 0, 'projects_completed': 0}\n",
      "{'account_key': '108', 'total_minutes_visited': 129.350111833, 'num_courses_visited': 1, 'utc_date': datetime.datetime(2015, 1, 26, 0, 0), 'lessons_completed': 0, 'projects_completed': 0}\n",
      "{'account_key': '108', 'total_minutes_visited': 73.5691376667, 'num_courses_visited': 1, 'utc_date': datetime.datetime(2015, 1, 27, 0, 0), 'lessons_completed': 0, 'projects_completed': 0}\n",
      "{'account_key': '108', 'total_minutes_visited': 0.0, 'num_courses_visited': 0, 'utc_date': datetime.datetime(2015, 1, 28, 0, 0), 'lessons_completed': 0, 'projects_completed': 0}\n",
      "{'account_key': '108', 'total_minutes_visited': 271.0895865, 'num_courses_visited': 1, 'utc_date': datetime.datetime(2015, 1, 29, 0, 0), 'lessons_completed': 0, 'projects_completed': 0}\n",
      "{'account_key': '108', 'total_minutes_visited': 432.252650333, 'num_courses_visited': 1, 'utc_date': datetime.datetime(2015, 1, 30, 0, 0), 'lessons_completed': 1, 'projects_completed': 0}\n",
      "{'account_key': '108', 'total_minutes_visited': 196.13898, 'num_courses_visited': 1, 'utc_date': datetime.datetime(2015, 1, 31, 0, 0), 'lessons_completed': 0, 'projects_completed': 0}\n",
      "{'account_key': '108', 'total_minutes_visited': 68.9915653333, 'num_courses_visited': 1, 'utc_date': datetime.datetime(2015, 2, 1, 0, 0), 'lessons_completed': 0, 'projects_completed': 0}\n",
      "{'account_key': '108', 'total_minutes_visited': 86.3277713333, 'num_courses_visited': 2, 'utc_date': datetime.datetime(2015, 2, 2, 0, 0), 'lessons_completed': 0, 'projects_completed': 0}\n",
      "{'account_key': '108', 'total_minutes_visited': 0.0, 'num_courses_visited': 0, 'utc_date': datetime.datetime(2015, 2, 3, 0, 0), 'lessons_completed': 0, 'projects_completed': 0}\n",
      "{'account_key': '108', 'total_minutes_visited': 0.0, 'num_courses_visited': 0, 'utc_date': datetime.datetime(2015, 2, 4, 0, 0), 'lessons_completed': 0, 'projects_completed': 0}\n",
      "{'account_key': '108', 'total_minutes_visited': 153.230525, 'num_courses_visited': 1, 'utc_date': datetime.datetime(2015, 2, 5, 0, 0), 'lessons_completed': 0, 'projects_completed': 0}\n",
      "{'account_key': '108', 'total_minutes_visited': 0.0, 'num_courses_visited': 0, 'utc_date': datetime.datetime(2015, 2, 6, 0, 0), 'lessons_completed': 0, 'projects_completed': 0}\n",
      "{'account_key': '108', 'total_minutes_visited': 0.0, 'num_courses_visited': 0, 'utc_date': datetime.datetime(2015, 2, 7, 0, 0), 'lessons_completed': 0, 'projects_completed': 0}\n",
      "{'account_key': '108', 'total_minutes_visited': 0.0, 'num_courses_visited': 0, 'utc_date': datetime.datetime(2015, 2, 8, 0, 0), 'lessons_completed': 0, 'projects_completed': 0}\n",
      "{'account_key': '108', 'total_minutes_visited': 16.687455, 'num_courses_visited': 1, 'utc_date': datetime.datetime(2015, 2, 9, 0, 0), 'lessons_completed': 0, 'projects_completed': 0}\n",
      "{'account_key': '108', 'total_minutes_visited': 133.047518833, 'num_courses_visited': 1, 'utc_date': datetime.datetime(2015, 2, 10, 0, 0), 'lessons_completed': 0, 'projects_completed': 0}\n",
      "{'account_key': '108', 'total_minutes_visited': 60.2176756667, 'num_courses_visited': 2, 'utc_date': datetime.datetime(2015, 2, 11, 0, 0), 'lessons_completed': 0, 'projects_completed': 0}\n",
      "{'account_key': '108', 'total_minutes_visited': 160.438302667, 'num_courses_visited': 3, 'utc_date': datetime.datetime(2015, 2, 12, 0, 0), 'lessons_completed': 0, 'projects_completed': 0}\n",
      "{'account_key': '108', 'total_minutes_visited': 506.220547, 'num_courses_visited': 2, 'utc_date': datetime.datetime(2015, 2, 13, 0, 0), 'lessons_completed': 4, 'projects_completed': 0}\n",
      "{'account_key': '108', 'total_minutes_visited': 105.095858167, 'num_courses_visited': 1, 'utc_date': datetime.datetime(2015, 2, 14, 0, 0), 'lessons_completed': 0, 'projects_completed': 0}\n",
      "{'account_key': '108', 'total_minutes_visited': 0.0, 'num_courses_visited': 0, 'utc_date': datetime.datetime(2015, 2, 15, 0, 0), 'lessons_completed': 0, 'projects_completed': 0}\n",
      "{'account_key': '108', 'total_minutes_visited': 0.0, 'num_courses_visited': 0, 'utc_date': datetime.datetime(2015, 2, 16, 0, 0), 'lessons_completed': 0, 'projects_completed': 0}\n",
      "{'account_key': '108', 'total_minutes_visited': 2.851689, 'num_courses_visited': 1, 'utc_date': datetime.datetime(2015, 2, 17, 0, 0), 'lessons_completed': 0, 'projects_completed': 0}\n",
      "{'account_key': '108', 'total_minutes_visited': 10.9540768333, 'num_courses_visited': 1, 'utc_date': datetime.datetime(2015, 2, 18, 0, 0), 'lessons_completed': 1, 'projects_completed': 0}\n",
      "{'account_key': '108', 'total_minutes_visited': 474.2906025, 'num_courses_visited': 1, 'utc_date': datetime.datetime(2015, 2, 19, 0, 0), 'lessons_completed': 3, 'projects_completed': 0}\n",
      "{'account_key': '108', 'total_minutes_visited': 820.879483167, 'num_courses_visited': 2, 'utc_date': datetime.datetime(2015, 2, 20, 0, 0), 'lessons_completed': 5, 'projects_completed': 0}\n",
      "{'account_key': '108', 'total_minutes_visited': 189.447189334, 'num_courses_visited': 2, 'utc_date': datetime.datetime(2015, 2, 21, 0, 0), 'lessons_completed': 2, 'projects_completed': 0}\n",
      "{'account_key': '108', 'total_minutes_visited': 97.7356985, 'num_courses_visited': 2, 'utc_date': datetime.datetime(2015, 2, 22, 0, 0), 'lessons_completed': 1, 'projects_completed': 0}\n",
      "{'account_key': '108', 'total_minutes_visited': 16.399642, 'num_courses_visited': 1, 'utc_date': datetime.datetime(2015, 2, 23, 0, 0), 'lessons_completed': 0, 'projects_completed': 0}\n",
      "{'account_key': '108', 'total_minutes_visited': 0.0, 'num_courses_visited': 0, 'utc_date': datetime.datetime(2015, 2, 24, 0, 0), 'lessons_completed': 0, 'projects_completed': 0}\n",
      "{'account_key': '108', 'total_minutes_visited': 0.0, 'num_courses_visited': 0, 'utc_date': datetime.datetime(2015, 2, 25, 0, 0), 'lessons_completed': 0, 'projects_completed': 0}\n",
      "{'account_key': '108', 'total_minutes_visited': 0.0, 'num_courses_visited': 0, 'utc_date': datetime.datetime(2015, 2, 26, 0, 0), 'lessons_completed': 0, 'projects_completed': 0}\n",
      "{'account_key': '108', 'total_minutes_visited': 0.0, 'num_courses_visited': 0, 'utc_date': datetime.datetime(2015, 2, 27, 0, 0), 'lessons_completed': 0, 'projects_completed': 0}\n",
      "{'account_key': '108', 'total_minutes_visited': 0.0, 'num_courses_visited': 0, 'utc_date': datetime.datetime(2015, 2, 28, 0, 0), 'lessons_completed': 0, 'projects_completed': 0}\n",
      "{'account_key': '108', 'total_minutes_visited': 0.0, 'num_courses_visited': 0, 'utc_date': datetime.datetime(2015, 3, 1, 0, 0), 'lessons_completed': 0, 'projects_completed': 0}\n",
      "{'account_key': '108', 'total_minutes_visited': 0.0, 'num_courses_visited': 0, 'utc_date': datetime.datetime(2015, 3, 2, 0, 0), 'lessons_completed': 0, 'projects_completed': 0}\n",
      "{'account_key': '108', 'total_minutes_visited': 0.0, 'num_courses_visited': 0, 'utc_date': datetime.datetime(2015, 3, 3, 0, 0), 'lessons_completed': 0, 'projects_completed': 0}\n",
      "{'account_key': '108', 'total_minutes_visited': 2.0494365, 'num_courses_visited': 1, 'utc_date': datetime.datetime(2015, 3, 4, 0, 0), 'lessons_completed': 0, 'projects_completed': 0}\n",
      "{'account_key': '108', 'total_minutes_visited': 0.0, 'num_courses_visited': 0, 'utc_date': datetime.datetime(2015, 3, 5, 0, 0), 'lessons_completed': 0, 'projects_completed': 0}\n",
      "{'account_key': '108', 'total_minutes_visited': 431.799976167, 'num_courses_visited': 2, 'utc_date': datetime.datetime(2015, 3, 6, 0, 0), 'lessons_completed': 2, 'projects_completed': 0}\n",
      "{'account_key': '108', 'total_minutes_visited': 119.514411833, 'num_courses_visited': 1, 'utc_date': datetime.datetime(2015, 3, 7, 0, 0), 'lessons_completed': 1, 'projects_completed': 0}\n",
      "{'account_key': '108', 'total_minutes_visited': 164.2608825, 'num_courses_visited': 1, 'utc_date': datetime.datetime(2015, 3, 8, 0, 0), 'lessons_completed': 1, 'projects_completed': 0}\n",
      "{'account_key': '108', 'total_minutes_visited': 179.749760666, 'num_courses_visited': 2, 'utc_date': datetime.datetime(2015, 3, 9, 0, 0), 'lessons_completed': 0, 'projects_completed': 0}\n",
      "{'account_key': '108', 'total_minutes_visited': 0.0, 'num_courses_visited': 0, 'utc_date': datetime.datetime(2015, 3, 10, 0, 0), 'lessons_completed': 0, 'projects_completed': 0}\n",
      "{'account_key': '108', 'total_minutes_visited': 0.0, 'num_courses_visited': 0, 'utc_date': datetime.datetime(2015, 3, 11, 0, 0), 'lessons_completed': 0, 'projects_completed': 0}\n",
      "{'account_key': '108', 'total_minutes_visited': 10.787165, 'num_courses_visited': 1, 'utc_date': datetime.datetime(2015, 3, 12, 0, 0), 'lessons_completed': 0, 'projects_completed': 0}\n",
      "{'account_key': '108', 'total_minutes_visited': 53.0065191667, 'num_courses_visited': 1, 'utc_date': datetime.datetime(2015, 3, 13, 0, 0), 'lessons_completed': 0, 'projects_completed': 0}\n",
      "{'account_key': '108', 'total_minutes_visited': 203.048973667, 'num_courses_visited': 1, 'utc_date': datetime.datetime(2015, 3, 14, 0, 0), 'lessons_completed': 1, 'projects_completed': 0}\n",
      "{'account_key': '108', 'total_minutes_visited': 51.2993831667, 'num_courses_visited': 1, 'utc_date': datetime.datetime(2015, 3, 15, 0, 0), 'lessons_completed': 0, 'projects_completed': 0}\n",
      "{'account_key': '108', 'total_minutes_visited': 0.0, 'num_courses_visited': 0, 'utc_date': datetime.datetime(2015, 3, 16, 0, 0), 'lessons_completed': 0, 'projects_completed': 0}\n",
      "{'account_key': '108', 'total_minutes_visited': 148.2304025, 'num_courses_visited': 1, 'utc_date': datetime.datetime(2015, 3, 17, 0, 0), 'lessons_completed': 0, 'projects_completed': 0}\n",
      "{'account_key': '108', 'total_minutes_visited': 27.5826056667, 'num_courses_visited': 1, 'utc_date': datetime.datetime(2015, 3, 18, 0, 0), 'lessons_completed': 0, 'projects_completed': 0}\n",
      "{'account_key': '108', 'total_minutes_visited': 0.0, 'num_courses_visited': 0, 'utc_date': datetime.datetime(2015, 3, 19, 0, 0), 'lessons_completed': 0, 'projects_completed': 0}\n",
      "{'account_key': '108', 'total_minutes_visited': 0.0, 'num_courses_visited': 0, 'utc_date': datetime.datetime(2015, 3, 20, 0, 0), 'lessons_completed': 0, 'projects_completed': 0}\n",
      "{'account_key': '108', 'total_minutes_visited': 14.4492643333, 'num_courses_visited': 1, 'utc_date': datetime.datetime(2015, 3, 21, 0, 0), 'lessons_completed': 0, 'projects_completed': 0}\n",
      "{'account_key': '108', 'total_minutes_visited': 159.175812667, 'num_courses_visited': 1, 'utc_date': datetime.datetime(2015, 3, 22, 0, 0), 'lessons_completed': 1, 'projects_completed': 0}\n",
      "{'account_key': '108', 'total_minutes_visited': 23.0641448333, 'num_courses_visited': 1, 'utc_date': datetime.datetime(2015, 3, 23, 0, 0), 'lessons_completed': 0, 'projects_completed': 0}\n",
      "{'account_key': '108', 'total_minutes_visited': 327.687187333, 'num_courses_visited': 2, 'utc_date': datetime.datetime(2015, 3, 24, 0, 0), 'lessons_completed': 3, 'projects_completed': 1}\n",
      "{'account_key': '108', 'total_minutes_visited': 210.324669, 'num_courses_visited': 1, 'utc_date': datetime.datetime(2015, 3, 25, 0, 0), 'lessons_completed': 5, 'projects_completed': 0}\n",
      "{'account_key': '108', 'total_minutes_visited': 114.421496, 'num_courses_visited': 2, 'utc_date': datetime.datetime(2015, 3, 26, 0, 0), 'lessons_completed': 0, 'projects_completed': 0}\n",
      "{'account_key': '108', 'total_minutes_visited': 85.2018686667, 'num_courses_visited': 1, 'utc_date': datetime.datetime(2015, 3, 27, 0, 0), 'lessons_completed': 0, 'projects_completed': 0}\n",
      "{'account_key': '108', 'total_minutes_visited': 9.53501516667, 'num_courses_visited': 1, 'utc_date': datetime.datetime(2015, 3, 28, 0, 0), 'lessons_completed': 0, 'projects_completed': 0}\n",
      "{'account_key': '108', 'total_minutes_visited': 0.0, 'num_courses_visited': 0, 'utc_date': datetime.datetime(2015, 3, 29, 0, 0), 'lessons_completed': 0, 'projects_completed': 0}\n",
      "{'account_key': '108', 'total_minutes_visited': 0.0, 'num_courses_visited': 0, 'utc_date': datetime.datetime(2015, 3, 30, 0, 0), 'lessons_completed': 0, 'projects_completed': 0}\n",
      "{'account_key': '108', 'total_minutes_visited': 0.0, 'num_courses_visited': 0, 'utc_date': datetime.datetime(2015, 3, 31, 0, 0), 'lessons_completed': 0, 'projects_completed': 0}\n",
      "{'account_key': '108', 'total_minutes_visited': 147.569145833, 'num_courses_visited': 3, 'utc_date': datetime.datetime(2015, 4, 1, 0, 0), 'lessons_completed': 0, 'projects_completed': 0}\n",
      "{'account_key': '108', 'total_minutes_visited': 77.2467501667, 'num_courses_visited': 3, 'utc_date': datetime.datetime(2015, 4, 2, 0, 0), 'lessons_completed': 0, 'projects_completed': 0}\n",
      "{'account_key': '108', 'total_minutes_visited': 84.8263243333, 'num_courses_visited': 3, 'utc_date': datetime.datetime(2015, 4, 3, 0, 0), 'lessons_completed': 0, 'projects_completed': 0}\n",
      "{'account_key': '108', 'total_minutes_visited': 0.0, 'num_courses_visited': 0, 'utc_date': datetime.datetime(2015, 4, 4, 0, 0), 'lessons_completed': 0, 'projects_completed': 0}\n",
      "{'account_key': '108', 'total_minutes_visited': 0.0, 'num_courses_visited': 0, 'utc_date': datetime.datetime(2015, 4, 5, 0, 0), 'lessons_completed': 0, 'projects_completed': 0}\n",
      "{'account_key': '108', 'total_minutes_visited': 32.9969003333, 'num_courses_visited': 2, 'utc_date': datetime.datetime(2015, 4, 6, 0, 0), 'lessons_completed': 0, 'projects_completed': 0}\n",
      "{'account_key': '108', 'total_minutes_visited': 173.764699333, 'num_courses_visited': 1, 'utc_date': datetime.datetime(2015, 4, 7, 0, 0), 'lessons_completed': 0, 'projects_completed': 0}\n",
      "{'account_key': '108', 'total_minutes_visited': 0.0, 'num_courses_visited': 0, 'utc_date': datetime.datetime(2015, 4, 8, 0, 0), 'lessons_completed': 0, 'projects_completed': 0}\n",
      "{'account_key': '108', 'total_minutes_visited': 85.6887951667, 'num_courses_visited': 1, 'utc_date': datetime.datetime(2015, 4, 9, 0, 0), 'lessons_completed': 0, 'projects_completed': 0}\n",
      "{'account_key': '108', 'total_minutes_visited': 72.4837255, 'num_courses_visited': 2, 'utc_date': datetime.datetime(2015, 4, 10, 0, 0), 'lessons_completed': 0, 'projects_completed': 0}\n",
      "{'account_key': '108', 'total_minutes_visited': 0.0, 'num_courses_visited': 0, 'utc_date': datetime.datetime(2015, 4, 11, 0, 0), 'lessons_completed': 0, 'projects_completed': 0}\n",
      "{'account_key': '108', 'total_minutes_visited': 0.0, 'num_courses_visited': 0, 'utc_date': datetime.datetime(2015, 4, 12, 0, 0), 'lessons_completed': 0, 'projects_completed': 0}\n",
      "{'account_key': '108', 'total_minutes_visited': 0.0, 'num_courses_visited': 0, 'utc_date': datetime.datetime(2015, 4, 13, 0, 0), 'lessons_completed': 0, 'projects_completed': 0}\n",
      "{'account_key': '108', 'total_minutes_visited': 36.9211676667, 'num_courses_visited': 1, 'utc_date': datetime.datetime(2015, 4, 14, 0, 0), 'lessons_completed': 0, 'projects_completed': 0}\n",
      "{'account_key': '108', 'total_minutes_visited': 179.353473333, 'num_courses_visited': 2, 'utc_date': datetime.datetime(2015, 4, 15, 0, 0), 'lessons_completed': 1, 'projects_completed': 0}\n",
      "{'account_key': '108', 'total_minutes_visited': 274.209734167, 'num_courses_visited': 2, 'utc_date': datetime.datetime(2015, 4, 16, 0, 0), 'lessons_completed': 0, 'projects_completed': 0}\n",
      "{'account_key': '108', 'total_minutes_visited': 40.340405, 'num_courses_visited': 1, 'utc_date': datetime.datetime(2015, 4, 17, 0, 0), 'lessons_completed': 0, 'projects_completed': 0}\n",
      "{'account_key': '108', 'total_minutes_visited': 0.0, 'num_courses_visited': 0, 'utc_date': datetime.datetime(2015, 4, 18, 0, 0), 'lessons_completed': 0, 'projects_completed': 0}\n",
      "{'account_key': '108', 'total_minutes_visited': 0.0, 'num_courses_visited': 0, 'utc_date': datetime.datetime(2015, 4, 19, 0, 0), 'lessons_completed': 0, 'projects_completed': 0}\n",
      "{'account_key': '108', 'total_minutes_visited': 25.9137858334, 'num_courses_visited': 2, 'utc_date': datetime.datetime(2015, 4, 20, 0, 0), 'lessons_completed': 0, 'projects_completed': 0}\n",
      "{'account_key': '108', 'total_minutes_visited': 3.40682316667, 'num_courses_visited': 1, 'utc_date': datetime.datetime(2015, 4, 21, 0, 0), 'lessons_completed': 0, 'projects_completed': 0}\n",
      "{'account_key': '108', 'total_minutes_visited': 99.1186611667, 'num_courses_visited': 2, 'utc_date': datetime.datetime(2015, 4, 22, 0, 0), 'lessons_completed': 0, 'projects_completed': 0}\n",
      "{'account_key': '108', 'total_minutes_visited': 35.8316206667, 'num_courses_visited': 1, 'utc_date': datetime.datetime(2015, 4, 23, 0, 0), 'lessons_completed': 0, 'projects_completed': 2}\n",
      "{'account_key': '108', 'total_minutes_visited': 0.0, 'num_courses_visited': 0, 'utc_date': datetime.datetime(2015, 4, 24, 0, 0), 'lessons_completed': 0, 'projects_completed': 0}\n",
      "{'account_key': '108', 'total_minutes_visited': 0.0, 'num_courses_visited': 0, 'utc_date': datetime.datetime(2015, 4, 25, 0, 0), 'lessons_completed': 0, 'projects_completed': 0}\n",
      "{'account_key': '108', 'total_minutes_visited': 0.0, 'num_courses_visited': 0, 'utc_date': datetime.datetime(2015, 4, 26, 0, 0), 'lessons_completed': 0, 'projects_completed': 0}\n"
     ]
    }
   ],
   "source": [
    "for engagement_record in paid_engagement_in_first_week:\n",
    "    if engagement_record['account_key'] == students_with_max_minutes:\n",
    "        print(engagement_record)"
   ]
  },
  {
   "cell_type": "markdown",
   "metadata": {},
   "source": [
    "There must be 0-7 records for each account key as it consist of data for 1 week (7 days). Also, the utc_date consists of data from '7 Jan 2015' to '26 Apr 2015'. Thus, there is something wrong in within_1week function. Let's review it."
   ]
  },
  {
   "cell_type": "code",
   "execution_count": 33,
   "metadata": {
    "collapsed": true
   },
   "outputs": [],
   "source": [
    "def within_one_week(join_date,engagement_date):\n",
    "    time_delta = engagement_date - join_date\n",
    "    return time_delta.days < 7"
   ]
  },
  {
   "cell_type": "markdown",
   "metadata": {},
   "source": [
    "Since, students can cancel and then again register themselves, thus, the join that can be after the engagement_date and that creates a probelm. To solve it:"
   ]
  },
  {
   "cell_type": "code",
   "execution_count": 34,
   "metadata": {
    "collapsed": true
   },
   "outputs": [],
   "source": [
    "def within_one_week(join_date,engagement_date):\n",
    "    time_delta = engagement_date - join_date\n",
    "    return time_delta.days < 7 and time_delta.days >= 0"
   ]
  },
  {
   "cell_type": "markdown",
   "metadata": {},
   "source": [
    "Now doing the same thing again as above:"
   ]
  },
  {
   "cell_type": "code",
   "execution_count": 35,
   "metadata": {
    "collapsed": false
   },
   "outputs": [
    {
     "data": {
      "text/plain": [
       "6919"
      ]
     },
     "execution_count": 35,
     "metadata": {},
     "output_type": "execute_result"
    }
   ],
   "source": [
    "paid_engagement_in_first_week = []\n",
    "for engagement_record in paid_engagement:\n",
    "    account_key = engagement_record['account_key']\n",
    "    join_date = paid_students[account_key]\n",
    "    engagement_record_date = engagement_record['utc_date']\n",
    "\n",
    "    if within_one_week(join_date, engagement_record_date):\n",
    "         paid_engagement_in_first_week.append(engagement_record)\n",
    "\n",
    "len(paid_engagement_in_first_week)"
   ]
  },
  {
   "cell_type": "code",
   "execution_count": 36,
   "metadata": {
    "collapsed": true
   },
   "outputs": [],
   "source": [
    "engagement_by_account = defaultdict(list)\n",
    "for engagement_record in paid_engagement_in_first_week:\n",
    "    account_key = engagement_record['account_key']\n",
    "    engagement_by_account[account_key].append(engagement_record)"
   ]
  },
  {
   "cell_type": "code",
   "execution_count": 37,
   "metadata": {
    "collapsed": true
   },
   "outputs": [],
   "source": [
    "total_minutes_by_account = {}\n",
    "\n",
    "for account_key, engagement_for_student in engagement_by_account.items():\n",
    "    total_minutes = 0\n",
    "    for engagement_record in engagement_for_student:\n",
    "        total_minutes += engagement_record['total_minutes_visited']\n",
    "    total_minutes_by_account[account_key] = total_minutes"
   ]
  },
  {
   "cell_type": "code",
   "execution_count": 38,
   "metadata": {
    "collapsed": false
   },
   "outputs": [
    {
     "name": "stdout",
     "output_type": "stream",
     "text": [
      "Mean: 306.708326753\n",
      "Standard Deviation: 412.996933409\n",
      "Minimum: 0.0\n",
      "Maximum: 3564.7332645\n"
     ]
    }
   ],
   "source": [
    "total_minutes = list(total_minutes_by_account.values())\n",
    "\n",
    "import numpy as np\n",
    "\n",
    "print(\"Mean:\",np.mean(total_minutes))\n",
    "print(\"Standard Deviation:\",np.std(total_minutes))\n",
    "print(\"Minimum:\",np.min(total_minutes))\n",
    "print(\"Maximum:\",np.max(total_minutes))"
   ]
  },
  {
   "cell_type": "code",
   "execution_count": 39,
   "metadata": {
    "collapsed": false
   },
   "outputs": [
    {
     "data": {
      "text/plain": [
       "3564.7332644989997"
      ]
     },
     "execution_count": 39,
     "metadata": {},
     "output_type": "execute_result"
    }
   ],
   "source": [
    "students_with_max_minutes = None\n",
    "max_minutes = 0\n",
    "\n",
    "for students, total_minutes in total_minutes_by_account.items():\n",
    "    if total_minutes > max_minutes:\n",
    "        max_minutes = total_minutes\n",
    "        students_with_max_minutes = students\n",
    "        \n",
    "max_minutes"
   ]
  },
  {
   "cell_type": "code",
   "execution_count": 40,
   "metadata": {
    "collapsed": false
   },
   "outputs": [
    {
     "name": "stdout",
     "output_type": "stream",
     "text": [
      "{'account_key': '163', 'total_minutes_visited': 850.519339666, 'num_courses_visited': 4, 'utc_date': datetime.datetime(2015, 7, 9, 0, 0), 'lessons_completed': 4, 'projects_completed': 0}\n",
      "{'account_key': '163', 'total_minutes_visited': 872.633923334, 'num_courses_visited': 6, 'utc_date': datetime.datetime(2015, 7, 10, 0, 0), 'lessons_completed': 6, 'projects_completed': 0}\n",
      "{'account_key': '163', 'total_minutes_visited': 777.018903666, 'num_courses_visited': 2, 'utc_date': datetime.datetime(2015, 7, 11, 0, 0), 'lessons_completed': 6, 'projects_completed': 0}\n",
      "{'account_key': '163', 'total_minutes_visited': 294.568774, 'num_courses_visited': 1, 'utc_date': datetime.datetime(2015, 7, 12, 0, 0), 'lessons_completed': 2, 'projects_completed': 0}\n",
      "{'account_key': '163', 'total_minutes_visited': 471.2139785, 'num_courses_visited': 3, 'utc_date': datetime.datetime(2015, 7, 13, 0, 0), 'lessons_completed': 1, 'projects_completed': 0}\n",
      "{'account_key': '163', 'total_minutes_visited': 298.778345333, 'num_courses_visited': 2, 'utc_date': datetime.datetime(2015, 7, 14, 0, 0), 'lessons_completed': 1, 'projects_completed': 0}\n",
      "{'account_key': '163', 'total_minutes_visited': 0.0, 'num_courses_visited': 0, 'utc_date': datetime.datetime(2015, 7, 15, 0, 0), 'lessons_completed': 0, 'projects_completed': 0}\n"
     ]
    }
   ],
   "source": [
    "for engagement_record in paid_engagement_in_first_week:\n",
    "    if engagement_record['account_key'] == students_with_max_minutes:\n",
    "        print(engagement_record)"
   ]
  },
  {
   "cell_type": "markdown",
   "metadata": {},
   "source": [
    "Now, both, maximum time and number of records are reasonable.\n",
    "###Lessons Completed in first week\n",
    "Calculating number of lessons completed in first week"
   ]
  },
  {
   "cell_type": "code",
   "execution_count": 41,
   "metadata": {
    "collapsed": true
   },
   "outputs": [],
   "source": [
    "def group_data(data, key_name):\n",
    "    grouped_data = defaultdict(list)\n",
    "    for data_point in data:\n",
    "        account_key = data_point[key_name]\n",
    "        grouped_data[account_key].append(data_point)\n",
    "    return grouped_data"
   ]
  },
  {
   "cell_type": "code",
   "execution_count": 42,
   "metadata": {
    "collapsed": true
   },
   "outputs": [],
   "source": [
    "engagement_by_account = group_data(paid_engagement_in_first_week,'account_key')"
   ]
  },
  {
   "cell_type": "code",
   "execution_count": 43,
   "metadata": {
    "collapsed": false
   },
   "outputs": [],
   "source": [
    "def sum_grouped_data(grouped_data,field_name):\n",
    "    summed_data = {}\n",
    "\n",
    "    for key, data_points in grouped_data.items():\n",
    "        total = 0\n",
    "        for data_point in data_points:\n",
    "            total += data_point[field_name]\n",
    "        summed_data[key] = total\n",
    "    return summed_data"
   ]
  },
  {
   "cell_type": "code",
   "execution_count": 44,
   "metadata": {
    "collapsed": false
   },
   "outputs": [],
   "source": [
    "lessons_completed_by_account = sum_grouped_data(engagement_by_account,'lessons_completed')"
   ]
  },
  {
   "cell_type": "code",
   "execution_count": 45,
   "metadata": {
    "collapsed": true
   },
   "outputs": [],
   "source": [
    "def describe_data(data):\n",
    "    print(\"Mean:\",np.mean(data))\n",
    "    print(\"Standard Deviation:\",np.std(data))\n",
    "    print(\"Minimum:\",np.min(data))\n",
    "    print(\"Maximum:\",np.max(data)) "
   ]
  },
  {
   "cell_type": "code",
   "execution_count": 46,
   "metadata": {
    "collapsed": false
   },
   "outputs": [
    {
     "name": "stdout",
     "output_type": "stream",
     "text": [
      "Mean: 1.63618090452\n",
      "Standard Deviation: 3.00256129983\n",
      "Minimum: 0\n",
      "Maximum: 36\n"
     ]
    }
   ],
   "source": [
    "total_projects = list(lessons_completed_by_account.values())\n",
    "describe_data(total_projects)"
   ]
  },
  {
   "cell_type": "markdown",
   "metadata": {},
   "source": [
    "###Analyzing num_courses_visited\n",
    "\n",
    "Analyze the number of days  the student visited classroom\n",
    "\n",
    "Two Ways to do this:\n",
    "    1. Change the sum_group_items function\n",
    "    2. Create a field has_visited - either as 0 or 1"
   ]
  },
  {
   "cell_type": "code",
   "execution_count": 47,
   "metadata": {
    "collapsed": true
   },
   "outputs": [],
   "source": [
    "for engagement_record in paid_engagement:\n",
    "    if engagement_record['num_courses_visited'] > 0:\n",
    "        engagement_record['has_visited'] = 1\n",
    "    else:\n",
    "        engagement_record['has_visited'] = 0"
   ]
  },
  {
   "cell_type": "code",
   "execution_count": 48,
   "metadata": {
    "collapsed": true
   },
   "outputs": [],
   "source": [
    "engagement_by_account = group_data(paid_engagement_in_first_week,'account_key')"
   ]
  },
  {
   "cell_type": "code",
   "execution_count": 49,
   "metadata": {
    "collapsed": true
   },
   "outputs": [],
   "source": [
    "lessons_completed_by_account = sum_grouped_data(engagement_by_account,'lessons_completed')"
   ]
  },
  {
   "cell_type": "code",
   "execution_count": 50,
   "metadata": {
    "collapsed": false
   },
   "outputs": [
    {
     "name": "stdout",
     "output_type": "stream",
     "text": [
      "Mean: 1.63618090452\n",
      "Standard Deviation: 3.00256129983\n",
      "Minimum: 0\n",
      "Maximum: 36\n"
     ]
    }
   ],
   "source": [
    "total_projects = list(lessons_completed_by_account.values())\n",
    "describe_data(total_projects)"
   ]
  },
  {
   "cell_type": "code",
   "execution_count": 51,
   "metadata": {
    "collapsed": true
   },
   "outputs": [],
   "source": [
    "days_visited_by_account = sum_grouped_data(engagement_by_account,'has_visited')"
   ]
  },
  {
   "cell_type": "code",
   "execution_count": 52,
   "metadata": {
    "collapsed": false
   },
   "outputs": [
    {
     "name": "stdout",
     "output_type": "stream",
     "text": [
      "Mean: 2.86733668342\n",
      "Standard Deviation: 2.25519800292\n",
      "Minimum: 0\n",
      "Maximum: 7\n"
     ]
    }
   ],
   "source": [
    "total_days = list(days_visited_by_account.values())\n",
    "describe_data(total_days)"
   ]
  },
  {
   "cell_type": "markdown",
   "metadata": {
    "collapsed": true
   },
   "source": [
    "###Splitting out passing students\n",
    "Creating two lists of engagement data for paid students in first week.\n",
    "\n",
    "The first list should contain data for students who eventually pass the subway project, and the second list should contain data for students who do not."
   ]
  },
  {
   "cell_type": "code",
   "execution_count": 53,
   "metadata": {
    "collapsed": false
   },
   "outputs": [
    {
     "name": "stdout",
     "output_type": "stream",
     "text": [
      "647\n"
     ]
    }
   ],
   "source": [
    "subway_project_lesson_keys = ['746169184', '3176718735']\n",
    "\n",
    "subway_project_pass = set()\n",
    "\n",
    "for submission in paid_submissions:\n",
    "    if submission['lesson_key'] in subway_project_lesson_keys and \\\n",
    "    (submission['assigned_rating'] == \"PASSED\" or submission['assigned_rating'] == \"DISTINCTION\"):\n",
    "        subway_project_pass.add(submission['account_key'])\n",
    "\n",
    "print(len(subway_project_pass))        "
   ]
  },
  {
   "cell_type": "code",
   "execution_count": 54,
   "metadata": {
    "collapsed": false
   },
   "outputs": [
    {
     "name": "stdout",
     "output_type": "stream",
     "text": [
      "4527\n",
      "2392\n"
     ]
    }
   ],
   "source": [
    "passing_engagement = []\n",
    "non_passing_engagement = []\n",
    "\n",
    "for engagement_record in paid_engagement_in_first_week:\n",
    "    if engagement_record['account_key'] in subway_project_pass:\n",
    "        passing_engagement.append(engagement_record)\n",
    "    else:\n",
    "        non_passing_engagement.append(engagement_record)\n",
    "\n",
    "print(len(passing_engagement))\n",
    "print(len(non_passing_engagement))"
   ]
  },
  {
   "cell_type": "markdown",
   "metadata": {},
   "source": [
    "###Comparing the two student groups\n",
    "Calculate some metrics for both groups:\n",
    "\n",
    "For Example,\n",
    "    - The three we looked earlier --- minutes spent, lessons completed and days visited\n",
    "    \n",
    "    - Are these students more likely to complete other projects\n",
    "    \n",
    "    - Look at the more granular data in daily_engagement_full.csv\n",
    "    \n",
    "    - Be creative!\n",
    "Which metric has the most interesting difference?\n",
    "\n",
    "**Minutes Spent**"
   ]
  },
  {
   "cell_type": "code",
   "execution_count": 55,
   "metadata": {
    "collapsed": false
   },
   "outputs": [],
   "source": [
    "passing_engagement_by_account = group_data(passing_engagement,'account_key')\n",
    "non_passing_engagement_by_account = group_data(non_passing_engagement,'account_key')"
   ]
  },
  {
   "cell_type": "code",
   "execution_count": 56,
   "metadata": {
    "collapsed": false
   },
   "outputs": [],
   "source": [
    "passing_minutes = sum_grouped_data(passing_engagement_by_account,'total_minutes_visited')\n",
    "non_passing_minutes = sum_grouped_data(non_passing_engagement_by_account,'total_minutes_visited')"
   ]
  },
  {
   "cell_type": "code",
   "execution_count": 57,
   "metadata": {
    "collapsed": false
   },
   "outputs": [
    {
     "name": "stdout",
     "output_type": "stream",
     "text": [
      "Passing Students:\n",
      "Mean: 394.586046484\n",
      "Standard Deviation: 448.499519327\n",
      "Minimum: 0.0\n",
      "Maximum: 3564.7332645\n",
      "Non-Passing Students:\n",
      "Mean: 143.326474267\n",
      "Standard Deviation: 269.538619011\n",
      "Minimum: 0.0\n",
      "Maximum: 1768.52274933\n"
     ]
    }
   ],
   "source": [
    "total_minutes_passing = list(passing_minutes.values())\n",
    "total_minutes_non_passing = list(non_passing_minutes.values())\n",
    "\n",
    "print(\"Passing Students:\")\n",
    "describe_data(total_minutes_passing)\n",
    "print(\"Non-Passing Students:\")\n",
    "describe_data(total_minutes_non_passing)"
   ]
  },
  {
   "cell_type": "markdown",
   "metadata": {},
   "source": [
    "**Lessons Completed **"
   ]
  },
  {
   "cell_type": "code",
   "execution_count": 58,
   "metadata": {
    "collapsed": false
   },
   "outputs": [
    {
     "name": "stdout",
     "output_type": "stream",
     "text": [
      "Passing Students:\n",
      "Mean: 2.05255023184\n",
      "Standard Deviation: 3.14222705558\n",
      "Minimum: 0\n",
      "Maximum: 36\n",
      "Non-Passing Students:\n",
      "Mean: 0.862068965517\n",
      "Standard Deviation: 2.54915994183\n",
      "Minimum: 0\n",
      "Maximum: 27\n"
     ]
    }
   ],
   "source": [
    "passing_lessons = sum_grouped_data(passing_engagement_by_account,'lessons_completed')\n",
    "non_passing_lessons = sum_grouped_data(non_passing_engagement_by_account,'lessons_completed')\n",
    "\n",
    "total_lessons_passing = list(passing_lessons.values())\n",
    "total_lessons_non_passing = list(non_passing_lessons.values())\n",
    "\n",
    "print(\"Passing Students:\")\n",
    "describe_data(total_lessons_passing)\n",
    "print(\"Non-Passing Students:\")\n",
    "describe_data(total_lessons_non_passing)"
   ]
  },
  {
   "cell_type": "markdown",
   "metadata": {},
   "source": [
    "**Days Visited**"
   ]
  },
  {
   "cell_type": "code",
   "execution_count": 59,
   "metadata": {
    "collapsed": false
   },
   "outputs": [
    {
     "name": "stdout",
     "output_type": "stream",
     "text": [
      "Passing Students:\n",
      "Mean: 3.38485316847\n",
      "Standard Deviation: 2.25882147092\n",
      "Minimum: 0\n",
      "Maximum: 7\n",
      "Non-Passing Students:\n",
      "Mean: 1.90517241379\n",
      "Standard Deviation: 1.90573144136\n",
      "Minimum: 0\n",
      "Maximum: 7\n"
     ]
    }
   ],
   "source": [
    "passing_visited = sum_grouped_data(passing_engagement_by_account,'has_visited')\n",
    "non_passing_visited = sum_grouped_data(non_passing_engagement_by_account,'has_visited')\n",
    "\n",
    "total_days_visited_passing = list(passing_visited.values())\n",
    "total_days_visited_non_passing = list(non_passing_visited.values())\n",
    "\n",
    "print(\"Passing Students:\")\n",
    "describe_data(total_days_visited_passing)\n",
    "print(\"Non-Passing Students:\")\n",
    "describe_data(total_days_visited_non_passing)"
   ]
  },
  {
   "cell_type": "markdown",
   "metadata": {},
   "source": [
    "###Making Histogram"
   ]
  },
  {
   "cell_type": "code",
   "execution_count": 66,
   "metadata": {
    "collapsed": false
   },
   "outputs": [],
   "source": [
    "import matplotlib.pyplot as plt\n",
    "import numpy as np\n",
    "\n",
    "%matplotlib inline\n",
    "\n",
    "def describe_data(data):\n",
    "    print(\"Mean:\",np.mean(data))\n",
    "    print(\"Standard Deviation:\",np.std(data))\n",
    "    print(\"Minimum:\",np.min(data))\n",
    "    print(\"Maximum:\",np.max(data)) \n",
    "    plt.hist(data)"
   ]
  },
  {
   "cell_type": "code",
   "execution_count": 67,
   "metadata": {
    "collapsed": false
   },
   "outputs": [
    {
     "name": "stdout",
     "output_type": "stream",
     "text": [
      "Mean: 394.586046484\n",
      "Standard Deviation: 448.499519327\n",
      "Minimum: 0.0\n",
      "Maximum: 3564.7332645\n",
      "Mean: 143.326474267\n",
      "Standard Deviation: 269.538619011\n",
      "Minimum: 0.0\n",
      "Maximum: 1768.52274933\n"
     ]
    },
    {
     "data": {
      "image/png": "[encoded data removed]",
      "text/plain": [
       "<matplotlib.figure.Figure at 0xa6e0a90>"
      ]
     },
     "metadata": {},
     "output_type": "display_data"
    }
   ],
   "source": [
    "describe_data(total_minutes_passing)\n",
    "describe_data(total_minutes_non_passing)"
   ]
  },
  {
   "cell_type": "code",
   "execution_count": 68,
   "metadata": {
    "collapsed": false
   },
   "outputs": [
    {
     "name": "stdout",
     "output_type": "stream",
     "text": [
      "Mean: 2.05255023184\n",
      "Standard Deviation: 3.14222705558\n",
      "Minimum: 0\n",
      "Maximum: 36\n",
      "Mean: 0.862068965517\n",
      "Standard Deviation: 2.54915994183\n",
      "Minimum: 0\n",
      "Maximum: 27\n"
     ]
    },
    {
     "data": {
      "image/png": "[encoded data removed]",
      "text/plain": [
       "<matplotlib.figure.Figure at 0xa6d3ef0>"
      ]
     },
     "metadata": {},
     "output_type": "display_data"
    }
   ],
   "source": [
    "describe_data(total_lessons_passing)\n",
    "describe_data(total_lessons_non_passing)"
   ]
  },
  {
   "cell_type": "code",
   "execution_count": 69,
   "metadata": {
    "collapsed": false
   },
   "outputs": [
    {
     "name": "stdout",
     "output_type": "stream",
     "text": [
      "Mean: 3.38485316847\n",
      "Standard Deviation: 2.25882147092\n",
      "Minimum: 0\n",
      "Maximum: 7\n",
      "Mean: 1.90517241379\n",
      "Standard Deviation: 1.90573144136\n",
      "Minimum: 0\n",
      "Maximum: 7\n"
     ]
    },
    {
     "data": {
      "image/png": "[encoded data removed]",
      "text/plain": [
       "<matplotlib.figure.Figure at 0xa6c2750>"
      ]
     },
     "metadata": {},
     "output_type": "display_data"
    }
   ],
   "source": [
    "describe_data(total_days_visited_passing)\n",
    "describe_data(total_days_visited_non_passing)"
   ]
  },
  {
   "cell_type": "markdown",
   "metadata": {},
   "source": [
    "#Drawing Conclusion Phase\n",
    "###Does result contains just noise?\n",
    "Tentative Conclusion: Students who pass the subway project spend more minutes in classroom during their first week.\n",
    "\n",
    "But is this a true difference, or due to noise in data?\n",
    "\n",
    "You can check this using statistics.\n",
    "\n",
    "###Conclusion doesn't imply causation\n",
    "\n",
    "Students who pass the first project are more likely to visit the classroom multiple times in their first week.\n",
    "\n",
    "This is a correlation between 'passing first project' and 'visiting classroom'. But does visiting the classroom multiple times *cause* students to pass their project?\n",
    "\n",
    "Third Factors that could cause visiting the classroom and passing projects:\n",
    "    - Level of Interest\n",
    "    - Background Knowledge\n",
    "Or this correlation *could* be because of causation! We just don't know.\n",
    "\n",
    "To find out, run an A/B Test.\n",
    "###Make Prediction:\n",
    "Which students are likely to pass their first project?\n",
    "\n",
    "Could take a first pass using heuristics, but getting a really good prediction this way could be difficult.\n",
    "    - Lots of different pieces of information to look at\n",
    "    - These features can interact\n",
    "*Machine Learning can make predictions automatically*\n",
    "#Communication Phase\n",
    "What findings are most interesting?\n",
    "    - Difference in total minutes\n",
    "    - Difference in days visited\n",
    "\n",
    "How will you present them?\n",
    "    - Report average minutes\n",
    "    - Show Histogram"
   ]
  },
  {
   "cell_type": "code",
   "execution_count": 70,
   "metadata": {
    "collapsed": false
   },
   "outputs": [
    {
     "data": {
      "text/plain": [
       "<matplotlib.text.Text at 0xa68d1d0>"
      ]
     },
     "execution_count": 70,
     "metadata": {},
     "output_type": "execute_result"
    },
    {
     "data": {
      "image/png": "[encoded data removed]",
      "text/plain": [
       "<matplotlib.figure.Figure at 0xa730df0>"
      ]
     },
     "metadata": {},
     "output_type": "display_data"
    }
   ],
   "source": [
    "plt.hist(total_days_visited_passing,bins=8)\n",
    "plt.hist(total_days_visited_non_passing,bins=8)\n",
    "plt.title(\"Total Days Visited\")\n",
    "plt.xlabel(\"Number of Days\")"
   ]
  },
  {
   "cell_type": "code",
   "execution_count": null,
   "metadata": {
    "collapsed": true
   },
   "outputs": [],
   "source": []
  }
 ],
 "metadata": {
  "kernelspec": {
   "display_name": "Python 3",
   "language": "python",
   "name": "python3"
  },
  "language_info": {
   "codemirror_mode": {
    "name": "ipython",
    "version": 3
   },
   "file_extension": ".py",
   "mimetype": "text/x-python",
   "name": "python",
   "nbconvert_exporter": "python",
   "pygments_lexer": "ipython3",
   "version": "3.4.3"
  }
 },
 "nbformat": 4,
 "nbformat_minor": 0
}
